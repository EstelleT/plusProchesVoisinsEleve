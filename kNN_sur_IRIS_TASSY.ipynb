{
 "cells": [
  {
   "cell_type": "markdown",
   "metadata": {},
   "source": [
    "La seconde partie de ce notebook (qui ne comporte qu'une question) requiert le module matplotlib, avec myBinder, j'ai fait en sorte que le module se charge automatiquement, mais si vous voulez utiliser le Notebook dans un autre environement  :\n",
    "\n",
    "- `pip install matplotlib` dans une fenêtre de commande Windows\n",
    "- `pip install matplotlib` dans un terminal à partir de la page d'accueil de jupyter > bouton New > Terminal\n",
    "- `pip install matplotlib` + moteur de recherche si jamais vous n'y arrivez pas"
   ]
  },
  {
   "cell_type": "markdown",
   "metadata": {},
   "source": [
    "# Iris : présentation de la situation"
   ]
  },
  {
   "cell_type": "markdown",
   "metadata": {},
   "source": [
    "Le jeu de données auquel nous allons nous intéresser est un jeu de données célèbre. Il a été créé et utilisé par Ronald Aylmer Fisher en 1936 (biologiste et statisticien) et concerne 3 espèces d'iris : setosa, virginica et versicolor. \n",
    "\n",
    "| Ronald Aylmer Fisher | Iris setosa | Iris virginica | Iris versicolor |\n",
    "|:--------------------:|:-----------:|:--------------:|:---------------:|\n",
    "| ![portrait](./images/portrait2.png) | ![portrait](./images/iris_setosa.jpg) | ![portrait](./images/iris_virginica.jpg) | ![portrait](./images/iris_versicolor.jpg) |\n",
    "\n",
    "Ce jeu de données est composé de 50 individus pour chacune des trois espèces (setosa, versicolor, virginica) soit 150 individus en tout.  \n",
    "\n",
    "\n",
    "Pour chacun de ces individus on dispose des champs :\n",
    "```\n",
    "- id              : numéro d'échantillon (identifiant)  \n",
    "\n",
    "- longueur_sepale : longueur des sépales  \n",
    "\n",
    "- largeur_sepale  : largeur des sépales  \n",
    "\n",
    "- longueur_petale : longueur des pétales  \n",
    "\n",
    "- largeur_petale  : largeur des pétales  \n",
    "\n",
    "- espece          : 'Iris-setosa', 'Irid_virginica' ou 'Iris-versicolor'\n",
    "```\n",
    "\n",
    "La question que se posait M. Fisher est, vous l'avez sans doute devinée :"
   ]
  },
  {
   "cell_type": "markdown",
   "metadata": {},
   "source": [
    "<div class = \"alert alert-danger\">\n",
    "\n",
    "\"Puis-je, à partir des longueurs et largeurs des sépales et pétales, prédire l'espèce d'un iris ?\"\n",
    "    \n",
    "</div>"
   ]
  },
  {
   "cell_type": "markdown",
   "metadata": {},
   "source": [
    "On va donc chercher, à partir des quatre descripteurs `longueur_sepale, largeur_sepale, longueur_petale` et `largeur_petale`, à effectuer une prédiction de l'étiquette `espece`."
   ]
  },
  {
   "cell_type": "markdown",
   "metadata": {},
   "source": [
    "# Import de la table de données"
   ]
  },
  {
   "cell_type": "markdown",
   "metadata": {},
   "source": [
    "Après exécution de la cellule de code suivante, nous disposerons grâce au module `utilitaires_iris` d'une table `table_iris` contenant les 150 enregistrements sous forme de dictionnaires,  "
   ]
  },
  {
   "cell_type": "code",
   "execution_count": null,
   "metadata": {},
   "outputs": [],
   "source": [
    "import math\n",
    "import copy\n",
    "\n",
    "from utilitaires_iris import *\n",
    "\n",
    "%matplotlib notebook\n",
    "\n",
    "table_iris = charger_fichier_entete( './datas/iris.csv' )"
   ]
  },
  {
   "cell_type": "markdown",
   "metadata": {},
   "source": [
    "<div class = \"alert alert-info\">\n",
    "\n",
    "**Question :**  \n",
    "\n",
    "En allant ouvrir le fichier `./datas/iris.csv`, déterminer quel est le séparateur du fichier csv et quel est son encodage.  "
   ]
  },
  {
   "cell_type": "markdown",
   "metadata": {},
   "source": [
    "On peut désormais accéder aux 150 enregistrements de `table_iris` :"
   ]
  },
  {
   "cell_type": "code",
   "execution_count": null,
   "metadata": {},
   "outputs": [],
   "source": [
    "table_iris[0]"
   ]
  },
  {
   "cell_type": "code",
   "execution_count": null,
   "metadata": {},
   "outputs": [],
   "source": [
    "table_iris[149]"
   ]
  },
  {
   "cell_type": "markdown",
   "metadata": {},
   "source": [
    "<div class = \"alert alert-danger\">\n",
    "\n",
    "**Question ($ \\heartsuit $):**\n",
    "    \n",
    "Dans la table `table_iris`, les valeurs associées à chacun des champs sont des chaînes de caractères.  \n",
    "    \n",
    "Pour quels champs y aura-t-il besoin d'une conversion lorsqu'on effectuera des calculs ?"
   ]
  },
  {
   "cell_type": "markdown",
   "metadata": {},
   "source": [
    "# Les 3 espèces d'iris sont-elles \"séparées\" les unes des autres ?"
   ]
  },
  {
   "cell_type": "markdown",
   "metadata": {},
   "source": [
    "Nous avons eu l'intuition dans les exercices de cours (voir exercice 2) d'une condition \"visuelle\" pour que la méthode des k plus proches voisins fonctionne bien. Cette condition était qu'il est préférable que les individus ayant des étiquettes différentes soient situés dans des \"zones\" bien séparées.  \n",
    "\n",
    "\n",
    "Nous allons rapidement visualiser ce qui se passe toujours grâce au module `utilitaires_iris`. Ce module nous permet d' afficher des projections 2D des données en choisissant deux descripteurs parmi les quatre (setosa en rouge, versicolor en vert et virginica en bleu) :"
   ]
  },
  {
   "cell_type": "code",
   "execution_count": null,
   "metadata": {},
   "outputs": [],
   "source": [
    "afficher_donnees_deux_colonnes(\"longueur_sepale\", \"longueur_petale\", table_iris)"
   ]
  },
  {
   "cell_type": "markdown",
   "metadata": {},
   "source": [
    "Ou bien afficher des projections 3D de ces données en choisissant trois descripteurs parmi quatre :"
   ]
  },
  {
   "cell_type": "code",
   "execution_count": null,
   "metadata": {},
   "outputs": [],
   "source": [
    "afficher_donnees_trois_colonnes(\"largeur_sepale\", \"largeur_petale\", \"longueur_sepale\", table_iris)"
   ]
  },
  {
   "cell_type": "markdown",
   "metadata": {},
   "source": [
    "<div class = \"alert alert-info\">\n",
    "\n",
    "**Question :**\n",
    "    \n",
    "En modifiant les descripteurs utilisés dans les représentations graphiques ci-dessus, indiquer si les trois nuages de points classés par espèce sont bien séparés les uns des autres.   \n",
    "    \n",
    "    \n",
    "En déduire si l'algorithme des k plus proches voisins risque de bien fonctionner ou pas.\n"
   ]
  },
  {
   "cell_type": "markdown",
   "metadata": {},
   "source": [
    "# Implémentation de l'algorithme des k plus proches voisins"
   ]
  },
  {
   "cell_type": "markdown",
   "metadata": {},
   "source": [
    "On rappelle que la formule de la distance dans le plan (en 2D) utilise les deux coordonnées $(x;y)$, dans l'espace (en 3D) utilise les trois coordonnées $(x;y;z)$ et en 4D les quatre coordonnées $(x;y;z;t)$.  \n",
    "\n",
    "Le cas de la 4D nous est nécessaire ici puisque nous avons quatre descripteurs. Ce qui donne finalement pour deux points d'un espace 4D :\n",
    "\n",
    "$$dist(A, B) = \\sqrt{(x_B-x_A)^2 + (y_B-y_A)^2 + (z_B-z_A)^2 + (t_A-t_B)^2}$$\n",
    "\n",
    "Pour faire cette partie, prenez votre cours et regardez l'algorithme des k plus proches voisins. Regardez aussi, sur la page 2 du cours, l'exemple de traitemet qui est donné : cela vous aidera à comprendre / voir ce que l'on attend des fonctions que vous avez à coder.  \n",
    "\n",
    "\n",
    "Enfin chaque fonction peut être codée en moins de 5 lignes de code (vous aurez peut être des solutions plus longues : ce n'est pas grave).  \n",
    "\n",
    "\n"
   ]
  },
  {
   "cell_type": "markdown",
   "metadata": {},
   "source": [
    "<div class = \"alert alert-info\">\n",
    "\n",
    "**Question :**\n",
    "\n",
    "Programmer ci-dessous le code d'une fonction `calculer_distance` qui :  \n",
    "\n",
    "- prend en paramètre deux dictionnaires `iris_a` et `iris_b` ayant les quatre champs `longueur_sepale`, `largeur_sepale`, `longueur_petale`, `largeur_petale` comme ceux présents dans `table_iris`\n",
    "\n",
    "\n",
    "- renvoie la distance **arrondie à trois décimales** entre ces deux iris en prenant en compte les valeurs de ces quatre champs.\n",
    " \n",
    "Deux assertions qui doivent être vérifiées par votre fonction sont données ci-dessous.\n",
    " \n",
    "**Rappel :**     \n",
    "    \n",
    "- Bien penser à la question marquée d'un ($\\heartsuit$) en haut du notebook.  \n",
    "    \n",
    "- On utilisera `math.sqrt` du module `math` pour calculer la racine carrée et `**` pour mettre au carré.\n",
    "\n",
    "- On utilisera `round(x, 3)` pour arrondir un nombre `x` en ne gardant que trois décimales."
   ]
  },
  {
   "cell_type": "code",
   "execution_count": null,
   "metadata": {},
   "outputs": [],
   "source": [
    "def calculer_distance(iris_a, iris_b):\n",
    "    pass"
   ]
  },
  {
   "cell_type": "code",
   "execution_count": null,
   "metadata": {},
   "outputs": [],
   "source": [
    "iris_alpha = table_iris[7]\n",
    "iris_beta = table_iris[17]\n",
    "\n",
    "iris_a_etiqueter = {'longueur_sepale':'5.5', \n",
    "                    'largeur_sepale':'3.3', \n",
    "                    'longueur_petale':'1.1', \n",
    "                    'largeur_petale':'0.2'}\n",
    "\n",
    "assert(calculer_distance(iris_alpha, iris_a_etiqueter) == 0.648)\n",
    "assert(calculer_distance(iris_beta, iris_a_etiqueter) == 0.548)"
   ]
  },
  {
   "cell_type": "markdown",
   "metadata": {},
   "source": [
    "<div class = \"alert alert-info\">\n",
    "\n",
    "**Question :**\n",
    "\n",
    "Programmer ci-dessous le code d'une fonction `completer_avec_distances` qui :  \n",
    "\n",
    "- prend en paramètre :  \n",
    "      \n",
    "    - une table `table` (comme `table_iris`)  contenant des dictionnaires représentant des iris \n",
    "    \n",
    "    - un dictionnaire `iris_a_etiqueter` représentant un iris (celui à étiqueter) \n",
    "    \n",
    "\n",
    "- renvoie une copie de `table_iris`, copie dans laquelle on a rajouté dans chacun des enregistrements un champ `distance` (dont la valeur est la distance entre l'enregistrement et `iris_a_diagnostiquer` arrondie à 3 décimales)   \n",
    "\n",
    "Deux assertions qui doivent être vérifiées par votre fonction sont données ci-dessous.\n",
    "    \n",
    "**Rappel :**  \n",
    "    \n",
    "- Pour effectuer la copie de la table on utilisera `copy.deepcopy(table)` du module `copy`. ($\\spadesuit$)"
   ]
  },
  {
   "cell_type": "code",
   "execution_count": null,
   "metadata": {},
   "outputs": [],
   "source": [
    "def completer_avec_distance(table, iris_a_etiqueter):\n",
    "    pass"
   ]
  },
  {
   "cell_type": "code",
   "execution_count": null,
   "metadata": {},
   "outputs": [],
   "source": [
    "table_iris = charger_fichier_entete( './datas/iris.csv' )\n",
    "\n",
    "iris_a_etiqueter = {'longueur_sepale':'5.5', \n",
    "                    'largeur_sepale':'3.3', \n",
    "                    'longueur_petale':'1.1', \n",
    "                    'largeur_petale':'0.2'}\n",
    "\n",
    "table_completee = completer_avec_distance(table_iris, iris_a_etiqueter)\n",
    "\n",
    "assert( table_completee[7]['distance'] == 0.648 )\n",
    "assert( table_completee[17]['distance'] == 0.548 )"
   ]
  },
  {
   "cell_type": "markdown",
   "metadata": {},
   "source": [
    "<div class = \"alert alert-info\">\n",
    "\n",
    "**Question :**\n",
    "\n",
    "Programmer ci-dessous le code d'une fonction `trier_puis_extraire` qui :  \n",
    "\n",
    "- prend en paramètre :  \n",
    "    \n",
    "    - une table `table` (comme `table_completee`)  contenant des dictionnaires représentant des iris **avec en plus le champ `distance`**  \n",
    "    \n",
    "    - un nombre entier `k`\n",
    "    \n",
    "- trie la table selon la distance croissante,\n",
    "\n",
    "- renvoie la liste des étiquettes (c'est à dire la liste des valeurs du champ `espece`) des `k` premiers iris de la table triée\n",
    "  \n",
    "  \n",
    "\n",
    "Une assertion qui doit être vérifiée par votre fonction est donnée ci-dessous.\n",
    "    \n",
    "**Rappel :**  \n",
    "    \n",
    "- Vous aurez besoin de créer une fonction `clef de tri` (voir le cours sur le traitement de données en table ou s'inspirer de la cellule suivante !) Vous vous souvenez on avait une table (liste ou tableau contenant des dictionnaires)) table_aeroports, qui contenait pour chaque aéroport un dictionnaire dont une des clés était 'Altitude').  \n"
   ]
  },
  {
   "cell_type": "code",
   "execution_count": null,
   "metadata": {},
   "outputs": [],
   "source": [
    "def clef_tri_altitude(aeroport):\n",
    "    return float(aeroport['Altitude'])\n",
    "\n",
    "table_alt_decroissantes = sorted(table_aeroports, key = clef_tri_altitude)"
   ]
  },
  {
   "cell_type": "code",
   "execution_count": null,
   "metadata": {},
   "outputs": [],
   "source": [
    "def clef_de_tri(iris):\n",
    "    pass\n",
    "\n",
    "def trier_puis_extraire(table, k):\n",
    "    pass\n",
    "\n"
   ]
  },
  {
   "cell_type": "code",
   "execution_count": null,
   "metadata": {},
   "outputs": [],
   "source": [
    "table_iris = charger_fichier_entete( './datas/iris.csv' )\n",
    "\n",
    "iris_a_etiqueter = {'longueur_sepale':'6.5', \n",
    "                    'largeur_sepale':'2.8', \n",
    "                    'longueur_petale':'5.0', \n",
    "                    'largeur_petale':'1.5'}\n",
    "\n",
    "table_completee = completer_avec_distance(table_iris, iris_a_etiqueter)\n",
    "liste_k_etiquettes = trier_puis_extraire(table_completee, 5)\n",
    "assert( liste_k_etiquettes ==  ['Iris-virginica','Iris-versicolor','Iris-versicolor',\n",
    "                                'Iris-versicolor','Iris-virginica'])\n",
    "\n",
    "table_completee = completer_avec_distance(table_iris, iris_a_etiqueter)\n",
    "liste_k_etiquettes = trier_puis_extraire(table_completee, 1)\n",
    "assert( liste_k_etiquettes ==  ['Iris-virginica'])"
   ]
  },
  {
   "cell_type": "markdown",
   "metadata": {},
   "source": [
    "<div class = \"alert alert-info\">\n",
    "\n",
    "\n",
    "    \n",
    "La fonction suivante, renvoie *l'élément le plus commun présent dans une liste* "
   ]
  },
  {
   "cell_type": "code",
   "execution_count": null,
   "metadata": {},
   "outputs": [],
   "source": [
    "def extraire_element_majoritaire(liste):\n",
    "    return max(set(liste), key=liste.count)"
   ]
  },
  {
   "cell_type": "code",
   "execution_count": null,
   "metadata": {},
   "outputs": [],
   "source": [
    "assert(extraire_element_majoritaire(['bip', 'bip', 'blip', 'blip', 'bip']) == 'bip')\n",
    "assert(extraire_element_majoritaire([1, 2, 3, 4, 5, 2, 3, 4, 5, 3, 4, 5, 4, 5, 5]) == 5)"
   ]
  },
  {
   "cell_type": "markdown",
   "metadata": {},
   "source": [
    "<div class = \"alert alert-info\">\n",
    "\n",
    "**Question :**  \n",
    "    \n",
    "Intégrez tout ce qui précdède dans une unique fonction `algo_k_plus_proches_voisins` qui prend en paramètres :  \n",
    "    \n",
    "- un nombre entier `k`,  \n",
    "    \n",
    "- une table d'iris étiquetés `table_iris`,  \n",
    "\n",
    "- et un iris non étiqueté `iris_a_etiqueter` \n",
    "    \n",
    "et renvoie l'étiquette de `iris_a_etiqueter` obtenue selon l'algorithme des k plus proches voisins."
   ]
  },
  {
   "cell_type": "code",
   "execution_count": null,
   "metadata": {},
   "outputs": [],
   "source": [
    "def algo_k_plus_proches_voisins(k, table_iris, iris_a_etiqueter):\n",
    "    pass"
   ]
  },
  {
   "cell_type": "code",
   "execution_count": null,
   "metadata": {},
   "outputs": [],
   "source": [
    "table_iris = charger_fichier_entete( './datas/iris.csv' )\n",
    "\n",
    "iris_a_etiqueter = {'longueur_sepale':'6.5', \n",
    "                    'largeur_sepale':'2.8', \n",
    "                    'longueur_petale':'5.0', \n",
    "                    'largeur_petale':'1.5'}\n",
    "\n",
    "assert(algo_k_plus_proches_voisins(5, table_iris, iris_a_etiqueter) == 'Iris-versicolor')\n",
    "assert(algo_k_plus_proches_voisins(1, table_iris, iris_a_etiqueter) == 'Iris-virginica')"
   ]
  },
  {
   "cell_type": "markdown",
   "metadata": {},
   "source": [
    "<div class = \"alert alert-danger\">\n",
    "    \n",
    "*POINT CULTURE*\n",
    "    \n",
    "( $\\spadesuit$ ) : Rappelons que copier une table est normalement une pratique à éviter (une table c'est potentiellement lourd donc c'est coûteux à copier).   \n",
    "    \n",
    "    \n",
    "On le fait ici pour \"alléger\" le code et éviter d'avoir trop de lignes de code dans nos fonctions.   \n",
    "\n",
    "Disons en résumé que cette mauvaise pratique (copier une table) est faite ici pour des motifs pédagogiques (aussi contradictoire que cela puisse paraître).\n",
    "    \n",
    "\n",
    "( $\\spadesuit$ $\\spadesuit$) Rappelons aussi que la méthode `sorted` utilisée pour trier a un avantage : elle renvoie une copie triée de la liste qui lui est fournie. La liste de départ peut donc, si on le souhaite, être laissée intacte. C'est bien car il peut arriver qu'on souhaite garder un 'original' de la liste à trier.  \n",
    "    \n",
    "Néanmoins c'est coûteux de recopier.  La méthode `sort` elle fait le contraire : elle modifie la liste à trier ce qui est moins coûteux (on dit qu'lle trie \"en place\") mais est gênant si on veut garder une trace de l'original."
   ]
  }
 ],
 "metadata": {
  "kernelspec": {
   "display_name": "Python 3",
   "language": "python",
   "name": "python3"
  },
  "language_info": {
   "codemirror_mode": {
    "name": "ipython",
    "version": 3
   },
   "file_extension": ".py",
   "mimetype": "text/x-python",
   "name": "python",
   "nbconvert_exporter": "python",
   "pygments_lexer": "ipython3",
   "version": "3.7.1"
  }
 },
 "nbformat": 4,
 "nbformat_minor": 2
}
